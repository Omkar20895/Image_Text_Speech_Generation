{
 "cells": [
  {
   "cell_type": "markdown",
   "metadata": {},
   "source": [
    "### Image-Speech Generation for Visually Impaired using LSTMs and CNNs\n",
    "\n",
    "### Text data Generation from"
   ]
  },
  {
   "cell_type": "code",
   "execution_count": 124,
   "metadata": {},
   "outputs": [
    {
     "data": {
      "text/html": [
       "<div>\n",
       "<style scoped>\n",
       "    .dataframe tbody tr th:only-of-type {\n",
       "        vertical-align: middle;\n",
       "    }\n",
       "\n",
       "    .dataframe tbody tr th {\n",
       "        vertical-align: top;\n",
       "    }\n",
       "\n",
       "    .dataframe thead th {\n",
       "        text-align: right;\n",
       "    }\n",
       "</style>\n",
       "<table border=\"1\" class=\"dataframe\">\n",
       "  <thead>\n",
       "    <tr style=\"text-align: right;\">\n",
       "      <th></th>\n",
       "      <th>Image</th>\n",
       "      <th>Text</th>\n",
       "    </tr>\n",
       "  </thead>\n",
       "  <tbody>\n",
       "    <tr>\n",
       "      <th>0</th>\n",
       "      <td>1000268201_693b08cb0e.jpg</td>\n",
       "      <td>startseq child in pink dress is climbing up se...</td>\n",
       "    </tr>\n",
       "    <tr>\n",
       "      <th>1</th>\n",
       "      <td>1001773457_577c3a7d70.jpg</td>\n",
       "      <td>startseq black dog and spotted dog are fightin...</td>\n",
       "    </tr>\n",
       "    <tr>\n",
       "      <th>2</th>\n",
       "      <td>1002674143_1b742ab4b8.jpg</td>\n",
       "      <td>startseq little girl covered in paint sits in ...</td>\n",
       "    </tr>\n",
       "    <tr>\n",
       "      <th>3</th>\n",
       "      <td>1003163366_44323f5815.jpg</td>\n",
       "      <td>startseq man lays on bench while his dog sits ...</td>\n",
       "    </tr>\n",
       "    <tr>\n",
       "      <th>4</th>\n",
       "      <td>1007129816_e794419615.jpg</td>\n",
       "      <td>startseq man in an orange hat starring at some...</td>\n",
       "    </tr>\n",
       "  </tbody>\n",
       "</table>\n",
       "</div>"
      ],
      "text/plain": [
       "                       Image  \\\n",
       "0  1000268201_693b08cb0e.jpg   \n",
       "1  1001773457_577c3a7d70.jpg   \n",
       "2  1002674143_1b742ab4b8.jpg   \n",
       "3  1003163366_44323f5815.jpg   \n",
       "4  1007129816_e794419615.jpg   \n",
       "\n",
       "                                                Text  \n",
       "0  startseq child in pink dress is climbing up se...  \n",
       "1  startseq black dog and spotted dog are fightin...  \n",
       "2  startseq little girl covered in paint sits in ...  \n",
       "3  startseq man lays on bench while his dog sits ...  \n",
       "4  startseq man in an orange hat starring at some...  "
      ]
     },
     "execution_count": 124,
     "metadata": {},
     "output_type": "execute_result"
    }
   ],
   "source": [
    "import pandas as pd\n",
    "import numpy as np\n",
    "import string\n",
    "\n",
    "trans_table = str.maketrans('', '', string.punctuation)\n",
    "\n",
    "def remove_small_words(x):\n",
    "    sentences = x.split(';')\n",
    "    new_sentences = []\n",
    "    \n",
    "    for sentence in sentences:\n",
    "        new_sentences.append(' '.join([word for word in sentence.split(\" \") if len(word)>1 and word.isalpha()]))\n",
    "    return ';'.join(new_sentences)\n",
    "\n",
    "unique_words = set()\n",
    "\n",
    "def count_unique_words(x):\n",
    "    sentences = x.split(\";\")\n",
    "    \n",
    "    for sentence in sentences:\n",
    "        unique_words.update(sentence.split())\n",
    "    \n",
    "    return x\n",
    "\n",
    "def remove_punctuations(x):\n",
    "    sentences = x.split(\";\")\n",
    "    new_sentences = []\n",
    "    \n",
    "    for sentence in sentences:\n",
    "        new_sentences.append(sentence.translate(table))\n",
    "        \n",
    "    return ';'.join(new_sentences)\n",
    "\n",
    "def add_pre_post_tags(x):\n",
    "    sentences = x.split(';')\n",
    "    new_sentences = []\n",
    "    \n",
    "    for sentence in sentences:\n",
    "        new_sentences.append('startseq ' + sentence + ' endseq')\n",
    "    return ';'.join(new_sentences)\n",
    "\n",
    "def load_clean_data():\n",
    "    data = pd.read_csv(\"../flickr8k/Flickr_Data/Flickr_Data/Flickr_TextData/Flickr8k.token.txt\", sep='\\t', header=None)\n",
    "    data.columns = [\"Image\", \"Text\"]\n",
    "\n",
    "    data = data.join(data.Image.str.split(\"#\", expand=True)).drop([\"Image\"], axis=1)\n",
    "    data.columns = [\"Text\", \"Image\", \"Index\"]\n",
    "    data = data.groupby(\"Image\")[\"Text\"].apply(';'.join).reset_index()\n",
    "    data[\"Text\"] = data.Text.str.lower()\n",
    "    data[\"Text\"] = data.Text.apply(remove_punctuations)\n",
    "    data[\"Text\"] = data.Text.apply(remove_small_words)\n",
    "    data.Text.apply(count_unique_words)\n",
    "    data[\"Text\"] = data.Text.apply(add_pre_post_tags)\n",
    "    \n",
    "    return data\n",
    "    \n",
    "data = load_clean_data()\n",
    "data.head()"
   ]
  },
  {
   "cell_type": "code",
   "execution_count": 137,
   "metadata": {},
   "outputs": [
    {
     "data": {
      "text/plain": [
       "(6000, 2)"
      ]
     },
     "execution_count": 137,
     "metadata": {},
     "output_type": "execute_result"
    }
   ],
   "source": [
    "train_index = pd.read_csv(\"../flickr8k/Flickr_Data/Flickr_Data/Flickr_TextData/Flickr_8k.trainImages.txt\", header=None)\n",
    "train_index.columns = [\"Image\"]\n",
    "train_data = data.loc[data.Image.isin(train_index.Image.to_list()), :]\n",
    "\n",
    "test_index = pd.read_csv(\"../flickr8k/Flickr_Data/Flickr_Data/Flickr_TextData/Flickr_8k.testImages.txt\", header=None)\n",
    "test_index.columns = [\"Image\"]\n",
    "test_data = data.loc[data.Image.isin(test_index.Image.to_list()), :]\n",
    "\n",
    "train_data.shape"
   ]
  },
  {
   "cell_type": "code",
   "execution_count": null,
   "metadata": {},
   "outputs": [],
   "source": []
  }
 ],
 "metadata": {
  "kernelspec": {
   "display_name": "Python 3",
   "language": "python",
   "name": "python3"
  },
  "language_info": {
   "codemirror_mode": {
    "name": "ipython",
    "version": 3
   },
   "file_extension": ".py",
   "mimetype": "text/x-python",
   "name": "python",
   "nbconvert_exporter": "python",
   "pygments_lexer": "ipython3",
   "version": "3.7.3"
  }
 },
 "nbformat": 4,
 "nbformat_minor": 2
}
